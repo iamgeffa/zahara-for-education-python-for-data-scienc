{
 "cells": [
  {
   "cell_type": "markdown",
   "id": "9dc81572",
   "metadata": {},
   "source": [
    "#### The traditional first program in any programming language is the \"Hello, World!\" program."
   ]
  },
  {
   "cell_type": "code",
   "execution_count": 8,
   "id": "208266e3",
   "metadata": {},
   "outputs": [
    {
     "name": "stdout",
     "output_type": "stream",
     "text": [
      "Hello, World!\n"
     ]
    }
   ],
   "source": [
    "# This is what a comment looks like in Python\n",
    "#EX1 \n",
    "print(\"Hello, World!\")"
   ]
  },
  {
   "cell_type": "markdown",
   "id": "bffa1583",
   "metadata": {},
   "source": [
    "### Fancy calculator\n"
   ]
  },
  {
   "cell_type": "code",
   "execution_count": 3,
   "id": "711a2728",
   "metadata": {},
   "outputs": [
    {
     "data": {
      "text/plain": [
       "-8.195121951219512"
      ]
     },
     "execution_count": 3,
     "metadata": {},
     "output_type": "execute_result"
    }
   ],
   "source": [
    "#Ex2\n",
    "(2**5 - 368) / (23 + 18)"
   ]
  },
  {
   "cell_type": "markdown",
   "id": "7453eb81",
   "metadata": {},
   "source": [
    "### Variables\n",
    "Variables are like containers that hold values."
   ]
  },
  {
   "cell_type": "code",
   "execution_count": 4,
   "id": "0697a3a9",
   "metadata": {},
   "outputs": [
    {
     "name": "stdout",
     "output_type": "stream",
     "text": [
      "1200\n"
     ]
    }
   ],
   "source": [
    "#Ex3\n",
    "# Define dimensions of a rectangle\n",
    "length = 30\n",
    "width = 40\n",
    "# Compute area\n",
    "area = length * width\n",
    "# Print area\n",
    "print(area)"
   ]
  },
  {
   "cell_type": "code",
   "execution_count": 6,
   "id": "92ab30ee",
   "metadata": {},
   "outputs": [
    {
     "name": "stdout",
     "output_type": "stream",
     "text": [
      "12000\n"
     ]
    }
   ],
   "source": [
    "#Ex4\n",
    "# Define height of box\n",
    "height = 10\n",
    "# Compute volume\n",
    "volume = length * width * height\n",
    "# Print volume\n",
    "print(volume)"
   ]
  },
  {
   "cell_type": "markdown",
   "id": "80135166",
   "metadata": {},
   "source": [
    "### Inputs\n",
    "To accept user input in Python, you can use the input() function. "
   ]
  },
  {
   "cell_type": "code",
   "execution_count": 7,
   "id": "f824e003",
   "metadata": {},
   "outputs": [
    {
     "name": "stdout",
     "output_type": "stream",
     "text": [
      "What's your name? Almustafa \n",
      "Hello, Almustafa !\n"
     ]
    }
   ],
   "source": [
    "#Ex5\n",
    "name = input(\"What's your name? \")\n",
    "print(\"Hello, \" + name + \"!\")\n"
   ]
  },
  {
   "cell_type": "code",
   "execution_count": 9,
   "id": "15d24789",
   "metadata": {},
   "outputs": [
    {
     "name": "stdout",
     "output_type": "stream",
     "text": [
      "How old are you? 21\n",
      "You are old enough to vote!\n"
     ]
    }
   ],
   "source": [
    "#Ex6\n",
    "age = int(input(\"How old are you? \"))\n",
    "if age >= 18:\n",
    "    print(\"You are old enough to vote!\")\n",
    "else:\n",
    "    print(\"You are not old enough to vote yet.\")"
   ]
  },
  {
   "cell_type": "code",
   "execution_count": 10,
   "id": "4df80cc3",
   "metadata": {},
   "outputs": [
    {
     "name": "stdout",
     "output_type": "stream",
     "text": [
      "Enter a number between 1 and 3: 4\n",
      "Invalid input. Please enter a number between 1 and 3.\n"
     ]
    }
   ],
   "source": [
    "#Ex7\n",
    "num = int(input(\"Enter a number between 1 and 3: \"))\n",
    "if num == 1:\n",
    "    print(\"You entered 1.\")\n",
    "elif num == 2:\n",
    "    print(\"You entered 2.\")\n",
    "elif num == 3:\n",
    "    print(\"You entered 3.\")\n",
    "else:\n",
    "    print(\"Invalid input. Please enter a number between 1 and 3.\")"
   ]
  },
  {
   "cell_type": "markdown",
   "id": "d6d4918a",
   "metadata": {},
   "source": [
    "### List\n",
    "a list is a collection of ordered and mutable items, which can be of any data type. A list is created using square brackets [] and separating items with commas."
   ]
  },
  {
   "cell_type": "code",
   "execution_count": 12,
   "id": "f88a3baa",
   "metadata": {},
   "outputs": [],
   "source": [
    "#Ex8\n",
    "# we create a list called my_list which contains five integers.\n",
    "my_list1 = [1, 2, 3, 4, 5]\n",
    "#which contains a string, a float, a boolean, and another list.\n",
    "my_list2 = [\"apple\", 3.14, True, [1, 2, 3]]"
   ]
  },
  {
   "cell_type": "code",
   "execution_count": 13,
   "id": "e324ecbc",
   "metadata": {},
   "outputs": [
    {
     "name": "stdout",
     "output_type": "stream",
     "text": [
      "[1, 2, 3, 4, 5]\n",
      "['apple', 3.14, True, [1, 2, 3]]\n"
     ]
    }
   ],
   "source": [
    "print(my_list1)\n",
    "print(my_list2)"
   ]
  },
  {
   "cell_type": "code",
   "execution_count": 1,
   "id": "ecc21956",
   "metadata": {},
   "outputs": [
    {
     "name": "stdout",
     "output_type": "stream",
     "text": [
      "Tue\n"
     ]
    }
   ],
   "source": [
    "#Ex9\n",
    "days_of_the_week = [\"Sun\", \"Mon\", \"Tue\", \"Wed\", \"Thu\", \"Fri\", \"Sat\"] # The third day of the week is...\n",
    "#Remember, in Python, indexing starts at 0!\n",
    "print(days_of_the_week[2])\n"
   ]
  },
  {
   "cell_type": "code",
   "execution_count": 3,
   "id": "d3b9187c",
   "metadata": {},
   "outputs": [
    {
     "data": {
      "text/plain": [
       "7"
      ]
     },
     "execution_count": 3,
     "metadata": {},
     "output_type": "execute_result"
    }
   ],
   "source": [
    "#Ex10\n",
    "#We can determine the length of a list using the len() function.\n",
    "# How many days of the week are there?\n",
    "len(days_of_the_week)\n"
   ]
  },
  {
   "cell_type": "code",
   "execution_count": 15,
   "id": "a74b2bae",
   "metadata": {},
   "outputs": [
    {
     "name": "stdout",
     "output_type": "stream",
     "text": [
      "[1, 2, 3, 4, 5, 6]\n",
      "[1, 2, 3, 5, 6]\n",
      "[0, 2, 3, 5, 6]\n"
     ]
    }
   ],
   "source": [
    "#Ex11\n",
    "my_list3 = [1, 2, 3, 4, 5]\n",
    "\n",
    "# Adding an item to the end of the list\n",
    "my_list3.append(6)\n",
    "print(my_list3)\n",
    "\n",
    "# Removing an item from the list\n",
    "my_list3.remove(4)\n",
    "print(my_list3)\n",
    "# Changing an item in the list\n",
    "my_list3[0] = 0\n",
    "print(my_list3)"
   ]
  },
  {
   "cell_type": "markdown",
   "id": "950791e2",
   "metadata": {},
   "source": [
    "### For loops\n",
    "For loops are used to iterate over a sequence of elements, such as a list or a range of numbers."
   ]
  },
  {
   "cell_type": "code",
   "execution_count": 4,
   "id": "537de1a3",
   "metadata": {
    "scrolled": false
   },
   "outputs": [
    {
     "name": "stdout",
     "output_type": "stream",
     "text": [
      "1\n",
      "2\n",
      "3\n",
      "4\n",
      "5\n",
      "6\n",
      "7\n",
      "8\n",
      "9\n",
      "10\n"
     ]
    }
   ],
   "source": [
    "#Ex12\n",
    "for i in range(1, 11):\n",
    "    print(i)"
   ]
  },
  {
   "cell_type": "code",
   "execution_count": 17,
   "id": "e70ecad2",
   "metadata": {},
   "outputs": [
    {
     "name": "stdout",
     "output_type": "stream",
     "text": [
      "The new list is: [6, 12, 18, 24, 30]\n"
     ]
    }
   ],
   "source": [
    "#Ex13\n",
    "numbers = [2, 4, 6, 8, 10]\n",
    "factor = 3\n",
    "for i in range(len(numbers)):\n",
    "    numbers[i] *= factor\n",
    "print(\"The new list is:\", numbers)"
   ]
  },
  {
   "cell_type": "code",
   "execution_count": 18,
   "id": "79a53838",
   "metadata": {},
   "outputs": [
    {
     "name": "stdout",
     "output_type": "stream",
     "text": [
      "The string contains 3 vowels.\n"
     ]
    }
   ],
   "source": [
    "#Ex14\n",
    "string = \"Hello, world!\"\n",
    "vowels = \"aeiouAEIOU\"\n",
    "count = 0\n",
    "for char in string:\n",
    "    if char in vowels:\n",
    "        count += 1\n",
    "print(\"The string contains\", count, \"vowels.\")"
   ]
  },
  {
   "cell_type": "code",
   "execution_count": 2,
   "id": "8642391f",
   "metadata": {},
   "outputs": [
    {
     "name": "stdout",
     "output_type": "stream",
     "text": [
      "Enter a string: meee\n",
      "The string contains 3 vowels.\n"
     ]
    }
   ],
   "source": [
    "#Ex15\n",
    "string = input(\"Enter a string: \")\n",
    "vowels = \"aeiouAEIOU\"\n",
    "count = 0\n",
    "for char in string:\n",
    "    if char in vowels:\n",
    "        count += 1\n",
    "print(\"The string contains\", count, \"vowels.\")"
   ]
  },
  {
   "cell_type": "code",
   "execution_count": null,
   "id": "a59aa65f",
   "metadata": {},
   "outputs": [],
   "source": []
  }
 ],
 "metadata": {
  "kernelspec": {
   "display_name": "Python 3 (ipykernel)",
   "language": "python",
   "name": "python3"
  },
  "language_info": {
   "codemirror_mode": {
    "name": "ipython",
    "version": 3
   },
   "file_extension": ".py",
   "mimetype": "text/x-python",
   "name": "python",
   "nbconvert_exporter": "python",
   "pygments_lexer": "ipython3",
   "version": "3.9.13"
  }
 },
 "nbformat": 4,
 "nbformat_minor": 5
}
